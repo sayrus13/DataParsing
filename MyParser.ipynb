{
 "cells": [
  {
   "cell_type": "code",
   "execution_count": 1,
   "metadata": {},
   "outputs": [],
   "source": [
    "import requests\n",
    "#request помогает писать запрос к сайту и вытягивать оттуда данные, статистику\n",
    "\n",
    "from bs4 import BeautifulSoup\n",
    "#разбирает html таблицу,делает из нее объект,с которым можно работать\n",
    "\n",
    "import csv "
   ]
  },
  {
   "cell_type": "code",
   "execution_count": 15,
   "metadata": {},
   "outputs": [],
   "source": [
    "#создаем константы\n",
    "#сюда сохраним csv file\n",
    "CSV='results.csv'\n",
    "\n",
    "#передаем домен, с которого парсим\n",
    "HOST='https://www.hltv.org/'\n",
    "\n",
    "#вставляем URL с которого берем данные\n",
    "URL ='https://www.hltv.org/results'\n",
    "\n",
    "#Чтобы сайты не подумали,что мы боты, нужно передавать заголовки\n",
    "#создаем словарь, в который передаем значения из кода страницы\n",
    "HEADERS = {\n",
    "    'accept': '*/*',\n",
    "    'user-agent': 'Mozilla/5.0 (Macintosh; Intel Mac OS X 10_15_7) AppleWebKit/537.36 (KHTML, like Gecko) Chrome/95.0.4638.69 Safari/537.36'\n",
    "}"
   ]
  },
  {
   "cell_type": "code",
   "execution_count": 3,
   "metadata": {},
   "outputs": [],
   "source": [
    "#создаем функции для парсинга\n",
    "#обращение к страницы для получения html\n",
    "#Параметры это кусочки url на новых страницах\n",
    "def get_html(url,params=''):\n",
    "    r=requests.get(url,headers=HEADERS,params=params)\n",
    "    return r"
   ]
  },
  {
   "cell_type": "code",
   "execution_count": 4,
   "metadata": {},
   "outputs": [],
   "source": [
    "html=get_html(URL)"
   ]
  },
  {
   "cell_type": "code",
   "execution_count": 5,
   "metadata": {},
   "outputs": [
    {
     "name": "stdout",
     "output_type": "stream",
     "text": [
      "<Response [200]>\n"
     ]
    }
   ],
   "source": [
    "print(html)"
   ]
  },
  {
   "cell_type": "code",
   "execution_count": 8,
   "metadata": {},
   "outputs": [],
   "source": [
    "#получаем контент сайта из hlml\n",
    "#в цикле наполняем пустой список необходимыми данными: команда 1, команда 2 , счет, организатор, тип матча\n",
    "#ориентируемся на код страницы, указатели типа div, td и вытаскиваем нужные данные\n",
    "def get_content(html):\n",
    "    soup=BeautifulSoup(html,'html.parser')\n",
    "    items=soup.find_all('div',class_=\"result-con\")\n",
    "    results=[]\n",
    "    \n",
    "    for item in items:\n",
    "        results.append(\n",
    "            {\n",
    "                'team1': item.find('div',class_=\"line-align team1\").get_text(strip=True),\n",
    "                'score': str(item.find('td', class_=\"result-score\").get_text()),\n",
    "                'team2': item.find('div',class_=\"line-align team2\").get_text(strip=True),\n",
    "                'event': item.find('td', class_=\"event\").get_text(),\n",
    "                'format': item.find('td', class_=\"star-cell\").get_text(strip=True)\n",
    "            \n",
    "            }\n",
    "        )\n",
    "    \n",
    "    return results"
   ]
  },
  {
   "cell_type": "code",
   "execution_count": 9,
   "metadata": {
    "scrolled": false
   },
   "outputs": [
    {
     "name": "stdout",
     "output_type": "stream",
     "text": [
      "[{'team1': 'Budapest Five', 'score': '1 - 2', 'team2': 'Enterprise', 'event': 'V4 Future Sports Festival 2021 Play-In', 'format': 'bo3'}, {'team1': 'Finest', 'score': '2 - 0', 'team2': '00Nation', 'event': 'Pinnacle Fall Series 3 Regionals', 'format': 'bo3'}, {'team1': 'MASONIC', 'score': '2 - 0', 'team2': '4glory', 'event': 'Pinnacle Fall Series 3 Regionals', 'format': 'bo3'}, {'team1': 'Savage', 'score': '2 - 1', 'team2': 'KOVA', 'event': 'Elisa Invitational Winter 2021 Regionals', 'format': 'bo3'}, {'team1': 'GamerLegion', 'score': '2 - 0', 'team2': 'Lynn Vision', 'event': 'William Hill Cup 2021', 'format': 'bo3'}, {'team1': 'TYLOO', 'score': '2 - 1', 'team2': 'Run or Die', 'event': 'Funspark ULTI 2021 Europe Regional Series 4 Closed Qualifier', 'format': 'bo3'}, {'team1': 'K23', 'score': '0 - 2', 'team2': 'forZe', 'event': 'REPUBLEAGUE TIPOS Season 2', 'format': 'bo3'}, {'team1': 'INDE IRAE', 'score': '0 - 2', 'team2': 'Eternal Fire', 'event': 'Funspark ULTI 2021 Europe Regional Series 4 Closed Qualifier', 'format': 'bo3'}, {'team1': 'TTC', 'score': '0 - 2', 'team2': 'SSP', 'event': 'UNITED Pro Series 2021', 'format': 'bo3'}, {'team1': '777', 'score': '1 - 2', 'team2': 'Nexus', 'event': 'Pinnacle Fall Series 3 Regionals', 'format': 'bo3'}, {'team1': 'Finest', 'score': '2 - 0', 'team2': 'AVE', 'event': 'Funspark ULTI 2021 Europe Regional Series 4 Closed Qualifier', 'format': 'bo3'}, {'team1': '1WIN', 'score': '2 - 0', 'team2': 'Levadia', 'event': 'Pinnacle Fall Series 3 Regionals', 'format': 'bo3'}, {'team1': 'ONYX', 'score': '1 - 2', 'team2': 'eSuba', 'event': 'V4 Future Sports Festival 2021 Play-In', 'format': 'bo3'}, {'team1': 'NLG', 'score': '2 - 1', 'team2': 'CCO', 'event': 'UNITED Pro Series 2021', 'format': 'bo3'}, {'team1': 'BLINK', 'score': '2 - 1', 'team2': 'AGF', 'event': 'Pinnacle Fall Series 3 Regionals', 'format': 'bo3'}, {'team1': 'Unique', 'score': '0 - 2', 'team2': 'Marten', 'event': 'Pinnacle Fall Series 3 Regionals', 'format': 'bo3'}, {'team1': 'ECLOT', 'score': '1 - 2', 'team2': 'hREDS', 'event': 'Pinnacle Fall Series 3 Regionals', 'format': 'bo3'}, {'team1': 'INDE IRAE', 'score': '0 - 2', 'team2': 'KOVA', 'event': 'Pinnacle Fall Series 3 Regionals', 'format': 'bo3'}, {'team1': 'Apocalypse', 'score': '1 - 0', 'team2': 'ORDER', 'event': 'ESEA Premier Season 39 Australia', 'format': 'def'}, {'team1': 'Triumph', 'score': '0 - 2', 'team2': 'RBG', 'event': 'ESEA Autumn 2021 Cash Cup 5 North America', 'format': 'bo3'}, {'team1': 'Party Astronauts', 'score': '2 - 0', 'team2': 'Extra Salt', 'event': 'iBUYPOWER Mythic Masters Winter 2021', 'format': 'bo3'}, {'team1': 'ChocoCheck', 'score': '2 - 0', 'team2': 'Strife', 'event': 'ESEA Autumn 2021 Cash Cup 5 North America', 'format': 'bo3'}, {'team1': 'InControl', 'score': '3 - 2', 'team2': 'Drypeek', 'event': 'Fragadelphia 16 The Block', 'format': 'bo5'}, {'team1': 'SWS', 'score': '1 - 2', 'team2': 'Havan Liberty', 'event': 'CBCS Masters 2021', 'format': 'bo3'}, {'team1': 'RBG', 'score': '2 - 1', 'team2': 'Strife', 'event': 'ESEA Autumn 2021 Cash Cup 5 North America', 'format': 'bo3'}, {'team1': 'Extra Salt', 'score': '2 - 0', 'team2': 'MIBR', 'event': 'iBUYPOWER Mythic Masters Winter 2021', 'format': 'bo3'}, {'team1': 'ChocoCheck', 'score': '1 - 2', 'team2': 'Triumph', 'event': 'ESEA Autumn 2021 Cash Cup 5 North America', 'format': 'bo3'}, {'team1': 'Fiend', 'score': '2 - 1', 'team2': 'Wisla Krakow', 'event': 'V4 Future Sports Festival 2021 Play-In', 'format': 'bo3'}, {'team1': \"Heretic's Day Care\", 'score': '0 - 2', 'team2': 'Drypeek', 'event': 'Fragadelphia 16 The Block', 'format': 'bo3'}, {'team1': 'Party Astronauts', 'score': '2 - 1', 'team2': 'Bad News Bears', 'event': 'iBUYPOWER Mythic Masters Winter 2021', 'format': 'bo3'}, {'team1': 'Imperial', 'score': '2 - 0', 'team2': 'Keyd', 'event': 'CBCS Masters 2021', 'format': 'bo3'}, {'team1': 'YeniCherry', 'score': '0 - 2', 'team2': 'Drypeek', 'event': 'Fragadelphia 16 The Block', 'format': 'bo3'}, {'team1': 'MOUZ NXT', 'score': '2 - 0', 'team2': 'NAVI Junior', 'event': ' WePlay Academy League Season 2 Finals', 'format': 'bo3'}, {'team1': 'Sinners', 'score': '2 - 0', 'team2': 'AGO', 'event': 'V4 Future Sports Festival 2021 Play-In', 'format': 'bo3'}, {'team1': 'OFFSET', 'score': '3 - 1', 'team2': 'FTW', 'event': 'Master League Portugal VIII Finals', 'format': 'bo5'}, {'team1': 'fnatic', 'score': '3 - 0', 'team2': 'BIG', 'event': 'DreamHack Open November 2021', 'format': 'bo5'}, {'team1': 'New Threat', 'score': '1 - 2', 'team2': 'Drypeek', 'event': 'Fragadelphia 16 The Block', 'format': 'bo3'}, {'team1': 'YeniCherry', 'score': '2 - 0', 'team2': 'PG', 'event': 'Fragadelphia 16 The Block', 'format': 'bo3'}, {'team1': 'Young Ninjas', 'score': '1 - 2', 'team2': 'NAVI Junior', 'event': ' WePlay Academy League Season 2 Finals', 'format': 'bo3'}, {'team1': 'Enterprise', 'score': '16 - 10', 'team2': 'Wisla Krakow', 'event': 'V4 Future Sports Festival 2021 Play-In', 'format': 'anc'}, {'team1': 'Fiend', 'score': '13 - 16', 'team2': 'Budapest Five', 'event': 'V4 Future Sports Festival 2021 Play-In', 'format': 'mrg'}, {'team1': 'MAD Lions', 'score': '2 - 1', 'team2': 'forZe', 'event': 'DreamHack Open November 2021', 'format': 'bo3'}, {'team1': 'FTW', 'score': '2 - 1', 'team2': 'eXploit', 'event': 'Master League Portugal VIII Finals', 'format': 'bo3'}, {'team1': 'AGO', 'score': '16 - 19', 'team2': 'eSuba', 'event': 'V4 Future Sports Festival 2021 Play-In', 'format': 'nuke'}, {'team1': 'Sinners', 'score': '11 - 16', 'team2': 'ONYX', 'event': 'V4 Future Sports Festival 2021 Play-In', 'format': 'inf'}, {'team1': 'TeamOne', 'score': '1 - 2', 'team2': 'Bad News Bears', 'event': 'iBUYPOWER Mythic Masters Winter 2021', 'format': 'bo3'}, {'team1': 'Lavender', 'score': '1 - 2', 'team2': 'PG', 'event': 'Fragadelphia 16 The Block', 'format': 'bo3'}, {'team1': \"Heretic's Day Care\", 'score': '1 - 2', 'team2': 'InControl', 'event': 'Fragadelphia 16 The Block', 'format': 'bo3'}, {'team1': 'Keyd', 'score': '2 - 1', 'team2': 'INTZ', 'event': 'CBCS Masters 2021', 'format': 'bo3'}, {'team1': 'Drypeek', 'score': '2 - 0', 'team2': 'All Gas No Brakes', 'event': 'Fragadelphia 16 The Block', 'format': 'bo3'}, {'team1': 'Kings of Content', 'score': '1 - 2', 'team2': 'MIBR', 'event': 'iBUYPOWER Mythic Masters Winter 2021', 'format': 'bo3'}, {'team1': 'InControl', 'score': '2 - 0', 'team2': 'New Threat', 'event': 'Fragadelphia 16 The Block', 'format': 'bo3'}, {'team1': 'YeniCherry', 'score': '0 - 2', 'team2': \"Heretic's Day Care\", 'event': 'Fragadelphia 16 The Block', 'format': 'bo3'}, {'team1': 'Triumph', 'score': '16 - 12', 'team2': 'ATK', 'event': 'ESEA Autumn 2021 Cash Cup 5 North America', 'format': 'inf'}, {'team1': 'ChocoCheck', 'score': '16 - 6', 'team2': 'Green Tea Party', 'event': 'ESEA Autumn 2021 Cash Cup 5 North America', 'format': 'inf'}, {'team1': 'Detonate', 'score': '9 - 16', 'team2': 'RBG', 'event': 'ESEA Autumn 2021 Cash Cup 5 North America', 'format': 'ovp'}, {'team1': 'Northern Forces', 'score': '8 - 16', 'team2': 'Strife', 'event': 'ESEA Autumn 2021 Cash Cup 5 North America', 'format': 'nuke'}, {'team1': 'Stars Horizon', 'score': '0 - 2', 'team2': 'Havan Liberty', 'event': 'CBCS Masters 2021', 'format': 'bo3'}, {'team1': 'BIG', 'score': '2 - 1', 'team2': 'forZe', 'event': 'DreamHack Open November 2021', 'format': 'bo3'}, {'team1': 'X Gamer', 'score': '2 - 0', 'team2': 'Daddypeek', 'event': 'Elisa Invitational Winter 2021 Sweden Closed Qualifier', 'format': 'bo3'}, {'team1': 'KOVA', 'score': '2 - 0', 'team2': 'SJ', 'event': 'Elisa Invitational Winter 2021 Finland Closed Qualifier', 'format': 'bo3'}, {'team1': 'NLG', 'score': '0 - 2', 'team2': 'Sprout', 'event': 'ESL Meisterschaft Autumn 2021', 'format': 'bo3'}, {'team1': 'FTW', 'score': '0 - 2', 'team2': 'OFFSET', 'event': 'Master League Portugal VIII Finals', 'format': 'bo3'}, {'team1': 'Fiend', 'score': '1 - 2', 'team2': 'D13', 'event': 'Funspark ULTI 2021 Europe Regional Series 4 Closed Qualifier', 'format': 'bo3'}, {'team1': '9INE', 'score': '1 - 2', 'team2': 'KappaB', 'event': 'Elisa Invitational Winter 2021 Sweden Closed Qualifier', 'format': 'bo3'}, {'team1': 'Young Ninjas', 'score': '0 - 2', 'team2': 'MOUZ NXT', 'event': ' WePlay Academy League Season 2 Finals', 'format': 'bo3'}, {'team1': 'Apeks Rebels', 'score': '2 - 0', 'team2': 'Bitfix', 'event': 'Elisa Invitational Winter 2021 Norway Closed Qualifier', 'format': 'bo3'}, {'team1': 'Unicorns of Love', 'score': '0 - 2', 'team2': 'REZIST', 'event': 'ESL Meisterschaft Autumn 2021', 'format': 'bo3'}, {'team1': 'Fjerritslev Gymnasium', 'score': '2 - 0', 'team2': 'GAARDEN', 'event': 'Road to Astralis Nexus 2021', 'format': 'bo3'}, {'team1': 'fnatic', 'score': '2 - 0', 'team2': 'MAD Lions', 'event': 'DreamHack Open November 2021', 'format': 'bo3'}, {'team1': 'hREDS', 'score': '2 - 0', 'team2': 'NYYRIKKI', 'event': 'Elisa Invitational Winter 2021 Finland Closed Qualifier', 'format': 'bo3'}, {'team1': 'eXploit', 'score': '2 - 0', 'team2': 'VELOX', 'event': 'Master League Portugal VIII Finals', 'format': 'bo3'}, {'team1': 'BIG Academy', 'score': '0 - 2', 'team2': 'NAVI Junior', 'event': ' WePlay Academy League Season 2 Finals', 'format': 'bo3'}, {'team1': 'OFFSET', 'score': '16 - 6', 'team2': 'VELOX', 'event': 'Master League Portugal VIII Finals', 'format': 'nuke'}, {'team1': 'eXploit', 'score': '11 - 16', 'team2': 'FTW', 'event': 'Master League Portugal VIII Finals', 'format': 'anc'}, {'team1': 'Extra Salt', 'score': '2 - 1', 'team2': 'Bad News Bears', 'event': 'iBUYPOWER Mythic Masters Winter 2021', 'format': 'bo3'}, {'team1': 'ATK', 'score': '0 - 2', 'team2': 'TeamOne', 'event': 'iBUYPOWER Mythic Masters Winter 2021', 'format': 'bo3'}, {'team1': 'Havan Liberty', 'score': '2 - 0', 'team2': 'DETONA', 'event': 'CBCS Masters 2021', 'format': 'bo3'}, {'team1': 'TeamOne', 'score': '1 - 2', 'team2': 'Bad News Bears', 'event': 'iBUYPOWER Mythic Masters Winter 2021', 'format': 'bo3'}, {'team1': 'FURIA Academy', 'score': '1 - 2', 'team2': 'INTZ', 'event': 'CBCS Masters 2021', 'format': 'bo3'}, {'team1': 'Coscu Army', 'score': '0 - 2', 'team2': 'River Plate', 'event': 'Aorus League 2021 Season 4 Southern Cone', 'format': 'bo3'}, {'team1': 'Extra Salt', 'score': '2 - 0', 'team2': 'ATK', 'event': 'iBUYPOWER Mythic Masters Winter 2021', 'format': 'bo3'}, {'team1': 'Sprout', 'score': '2 - 1', 'team2': 'REZIST', 'event': 'ESL Meisterschaft Autumn 2021', 'format': 'bo3'}, {'team1': 'Movistar Riders', 'score': '2 - 1', 'team2': 'SAW', 'event': 'ESL Masters Spain Season 10 Finals', 'format': 'bo3'}, {'team1': 'ECLOT', 'score': '1 - 2', 'team2': 'GODSENT', 'event': 'REPUBLEAGUE TIPOS Season 2', 'format': 'bo3'}, {'team1': '1WIN', 'score': '1 - 2', 'team2': 'Nemiga', 'event': 'ESEA Premier Season 39 Europe', 'format': 'bo3'}, {'team1': 'forZe', 'score': '2 - 1', 'team2': 'ENCE', 'event': 'DreamHack Open November 2021', 'format': 'bo3'}, {'team1': 'MOUZ NXT', 'score': '2 - 1', 'team2': 'NAVI Junior', 'event': ' WePlay Academy League Season 2 Finals', 'format': 'bo3'}, {'team1': 'Unicorns of Love', 'score': '1 - 2', 'team2': 'NLG', 'event': 'ESL Meisterschaft Autumn 2021', 'format': 'bo3'}, {'team1': 'Copenhagen Flames', 'score': '2 - 1', 'team2': 'Dignitas', 'event': 'REPUBLEAGUE TIPOS Season 2', 'format': 'bo3'}, {'team1': 'MAD Lions', 'score': '2 - 0', 'team2': 'MOUZ', 'event': 'DreamHack Open November 2021', 'format': 'bo3'}, {'team1': 'Young Ninjas', 'score': '2 - 0', 'team2': 'BIG Academy', 'event': ' WePlay Academy League Season 2 Finals', 'format': 'bo3'}, {'team1': 'Party Astronauts', 'score': '2 - 1', 'team2': 'Kings of Content', 'event': 'iBUYPOWER Mythic Masters Winter 2021', 'format': 'bo3'}, {'team1': 'RBG', 'score': '0 - 2', 'team2': 'MIBR', 'event': 'iBUYPOWER Mythic Masters Winter 2021', 'format': 'bo3'}, {'team1': 'TeamOne', 'score': '2 - 1', 'team2': 'ATK', 'event': 'ESEA Premier Season 39 North America', 'format': 'bo3'}, {'team1': 'SWS', 'score': '19 - 16', 'team2': 'Keyd', 'event': 'CBCS Masters 2021', 'format': 'inf'}, {'team1': '9z Academy', 'score': '1 - 2', 'team2': 'River Plate', 'event': 'Aorus League 2021 Season 4 Southern Cone', 'format': 'bo3'}, {'team1': 'Kings of Content', 'score': '2 - 1', 'team2': 'MIBR', 'event': 'iBUYPOWER Mythic Masters Winter 2021', 'format': 'bo3'}, {'team1': 'Stars Horizon', 'score': '5 - 16', 'team2': 'Imperial', 'event': 'CBCS Masters 2021', 'format': 'anc'}, {'team1': 'Party Astronauts', 'score': '2 - 0', 'team2': 'RBG', 'event': 'iBUYPOWER Mythic Masters Winter 2021', 'format': 'bo3'}]\n"
     ]
    }
   ],
   "source": [
    "print(get_content(html.text))"
   ]
  },
  {
   "cell_type": "code",
   "execution_count": 10,
   "metadata": {},
   "outputs": [],
   "source": [
    "def save_doc(items,path):\n",
    "    with open(path,'w',newline='') as file:\n",
    "        writer=csv.writer(file,delimiter=';')\n",
    "        writer.writerow(['Team 1','Result','Team 2','Event','Match Type'])\n",
    "        for item in items:\n",
    "            writer.writerow([item['team1'],item['score'],item['team2'],item['event'],item['format']])"
   ]
  },
  {
   "cell_type": "code",
   "execution_count": 16,
   "metadata": {},
   "outputs": [],
   "source": [
    "#цикл внутри будет работать с каждой страницей (пагинация)\n",
    "#в нашем случае сайта hltv тут вводим кол-во матчей\n",
    "def parser():\n",
    "    pagenation=int(input('Укажите кол-во матчей для парсинга: '))\n",
    "    html=get_html(URL)\n",
    "    if html.status_code==200:\n",
    "        results=[]\n",
    "        for game in range(0, pagenation+1):\n",
    "            print(f'Парсим матчи :{game}')\n",
    "            html=get_html(URL, params={'offset':game})\n",
    "            results.extend(get_content(html.text))\n",
    "            save_doc(results,CSV)\n",
    "    else:\n",
    "        print('Site is not available')"
   ]
  },
  {
   "cell_type": "code",
   "execution_count": 17,
   "metadata": {
    "scrolled": false
   },
   "outputs": [
    {
     "name": "stdout",
     "output_type": "stream",
     "text": [
      "Укажите кол-во матчей для парсинга: 2\n",
      "Парсим матчи :0\n",
      "Парсим матчи :1\n",
      "Парсим матчи :2\n"
     ]
    }
   ],
   "source": [
    "parser()"
   ]
  }
 ],
 "metadata": {
  "kernelspec": {
   "display_name": "Python 3",
   "language": "python",
   "name": "python3"
  },
  "language_info": {
   "codemirror_mode": {
    "name": "ipython",
    "version": 3
   },
   "file_extension": ".py",
   "mimetype": "text/x-python",
   "name": "python",
   "nbconvert_exporter": "python",
   "pygments_lexer": "ipython3",
   "version": "3.7.4"
  }
 },
 "nbformat": 4,
 "nbformat_minor": 2
}
